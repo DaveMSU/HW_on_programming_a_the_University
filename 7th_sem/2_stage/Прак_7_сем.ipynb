{
  "nbformat": 4,
  "nbformat_minor": 0,
  "metadata": {
    "colab": {
      "name": "Прак. 7 сем",
      "provenance": [],
      "collapsed_sections": []
    },
    "kernelspec": {
      "name": "python3",
      "display_name": "Python 3"
    }
  },
  "cells": [
    {
      "cell_type": "code",
      "metadata": {
        "id": "f-xdIVcttWz6"
      },
      "source": [
        "import numpy as np\n",
        "import pandas as pd\n",
        "\n",
        "from tqdm.notebook import tqdm"
      ],
      "execution_count": 117,
      "outputs": []
    },
    {
      "cell_type": "code",
      "metadata": {
        "id": "BKao-HJeZ_KK"
      },
      "source": [
        "def np_dot(a, b):\n",
        "  return np.dot(a,b)\n",
        "\n",
        "def norm(a):\n",
        "  return np.linalg.norm(a)"
      ],
      "execution_count": 9,
      "outputs": []
    },
    {
      "cell_type": "code",
      "metadata": {
        "id": "6R0QD4qSsuNN"
      },
      "source": [
        "def func(x):\n",
        "  \"\"\"\n",
        "  Функция произвольного\n",
        "  вида от вектора х.\n",
        "  \"\"\"\n",
        "\n",
        "  x = np.asarray(x).reshape(-1)\n",
        "  A = np.eye((x.shape[0]))\n",
        "  b = np.ones_like(x)\n",
        "  c = 0\n",
        "  \n",
        "  return np_dot(np_dot(A,x),x) + np_dot(b,x) + c"
      ],
      "execution_count": 10,
      "outputs": []
    },
    {
      "cell_type": "code",
      "metadata": {
        "id": "gDLlHwJcvXlc"
      },
      "source": [
        "def get_grad(functor, x_0):\n",
        "  \"\"\"\n",
        "  Принимаем на вход функтор и\n",
        "  координаты точки x_0,\n",
        "  возвращаем градиент \n",
        "  (вектор столбец)\n",
        "  в этой точке.\n",
        "  \"\"\"\n",
        "  \n",
        "  eps = 1e-9\n",
        "  x_0 = np.asarray(x_0, dtype=float).reshape(-1)\n",
        "  f_grad = np.zeros_like(x_0)\n",
        "\n",
        "  for i in range(x_0.shape[0]):\n",
        "    x_plus = x_0.copy()\n",
        "    x_plus[i] += eps\n",
        "\n",
        "    x_minus = x_0.copy()\n",
        "    x_minus[i] -= eps\n",
        "\n",
        "    f_grad[i] = functor(x_plus) - functor(x_minus)\n",
        "    f_grad[i] /= 2*eps\n",
        "\n",
        "  return f_grad.reshape(-1,1)"
      ],
      "execution_count": 11,
      "outputs": []
    },
    {
      "cell_type": "code",
      "metadata": {
        "id": "uvRsz8ny_CiJ"
      },
      "source": [
        "import time"
      ],
      "execution_count": 3,
      "outputs": []
    },
    {
      "cell_type": "code",
      "metadata": {
        "id": "pqHEv-VxUw_c"
      },
      "source": [
        "def DFP_method(func, x, eps=1e-9, logging=False):\n",
        "\n",
        "  # Help function for leraning rate searching.\n",
        "  #\n",
        "  def one_dim_min(f, x_cur, d_cur):\n",
        "    \"\"\"\n",
        "    One-dimensional minimization rule.\n",
        "\n",
        "    Ищем lr с помощью градиентного спуска \n",
        "     с шагом lrlr, который уменьшается со временем.\n",
        "    \"\"\"\n",
        "\n",
        "    lr = 0.5\n",
        "    lrlr = 0.1\n",
        "    f_from_lr = lambda lr: f(x_cur - lr * d_cur)\n",
        "    fx_prev = np_dot(get_grad(f_from_lr, lr).T, lr) # <f',x>\n",
        "\n",
        "    for _ in range(10000):          \n",
        "      th = 1\n",
        "      lr_d_cur = np.clip(get_grad(f_from_lr, lr), -th, th)[0,0]\n",
        "      lr = lr - lrlr * lr_d_cur\n",
        "      fx_next = np_dot(get_grad(f_from_lr, lr).T, lr)\n",
        "      if fx_next * fx_prev > 0: # Если направление движения не меняется увеличиваем шаг, иначе уменьшаем.\n",
        "        lrlr *= 1.2\n",
        "      else:\n",
        "        lrlr *= 0.6\n",
        "      fx_prev = fx_next\n",
        "      # print()\n",
        "      # print('lr: %.4f' % lr)\n",
        "      # print('norm lr_d: %.12f' % norm(lr_d_cur))\n",
        "      # print(eps)\n",
        "      # print(\"f\\' = %.2f\" % fx_next)\n",
        "      # print('lrlr: %.4f' % lrlr)\n",
        "      if norm(lr_d_cur) < eps:\n",
        "        break\n",
        "      #time.sleep(4)\n",
        "\n",
        "    return lr\n",
        "\n",
        "\n",
        "  x = np.asarray(x).reshape(-1,1)\n",
        "\n",
        "  if logging:\n",
        "    i = 1\n",
        "\n",
        "  while norm(get_grad(func, x)) > eps:    \n",
        "\n",
        "    if logging:\n",
        "      print('%i-st step of DFP:' % i)\n",
        "    i+=1\n",
        "\n",
        "    if logging:\n",
        "      print(\"f(x) = %.6f\" % func(x))\n",
        "      #print(\"f\\' = %.6f\" % np_dot(get_grad(func, x).T, x))\n",
        "      print(\"||f\\'|| = %.6f\" % norm(get_grad(func, x)))\n",
        "\n",
        "    Q = np.diag([1.]*x.shape[0])\n",
        "\n",
        "    x_prev = x\n",
        "    f_grad_prev = get_grad(func, x_prev)\n",
        "\n",
        "    d = -np_dot(Q, f_grad_prev)\n",
        "    lr = one_dim_min(func, x_prev, f_grad_prev) # Ищем длину шага.\n",
        "    #lr = 0.0001\n",
        "    if logging:\n",
        "      print('lr = %.4f' % lr)\n",
        "    x_next = x_prev + lr * d  \n",
        "    f_grad_next = get_grad(func, x_next)\n",
        "\n",
        "    if logging:\n",
        "      print('<f\\'next, f\\'prev> = %.9f' % np_dot(f_grad_next.T, f_grad_prev)) # Проверяем оротогональны ли напр-ия.\n",
        "\n",
        "    r = x_next - x_prev\n",
        "    s = f_grad_next - f_grad_prev\n",
        "\n",
        "    Q_s = np_dot(Q, s)\n",
        "    Q += np_dot(r, r.T) / np_dot(r.T, s)\n",
        "    Q -= np_dot(Q_s, Q_s.T) / np_dot(Q_s, s.T)\n",
        "\n",
        "    x = x_next    \n",
        "\n",
        "    if logging:\n",
        "      print('step has been taken', end='\\n\\n')\n",
        "  \n",
        "  if logging:\n",
        "    print('DFP method converged.', end='\\n\\n')\n",
        "\n",
        "  return x  "
      ],
      "execution_count": 5,
      "outputs": []
    },
    {
      "cell_type": "code",
      "metadata": {
        "id": "Ga806UJJFTfA"
      },
      "source": [
        "def DFP_method(func, x, eps=1e-9, logging=False, iter_max=float(\"inf\")):\n",
        "\n",
        "  x = np.asarray(x).reshape(-1,1)\n",
        "  lr = 0.001\n",
        "\n",
        "  iter_num = 0\n",
        "  \n",
        "  f_grad_prev = get_grad(func, x)\n",
        "\n",
        "  while norm(get_grad(func, x)) > eps and iter_num < iter_max:    \n",
        "\n",
        "    if logging:\n",
        "      print('%i-st step of DFP:' % (iter_num + 1))\n",
        "    iter_num += 1\n",
        "\n",
        "    if logging:\n",
        "      print(\"f(x) = %.6f\" % func(x))\n",
        "      print(\"||f\\'|| = %.6f\" % norm(get_grad(func, x)))\n",
        "\n",
        "    Q = np.diag([1.]*x.shape[0])\n",
        "\n",
        "    x_prev = x\n",
        "\n",
        "    if np_dot(f_grad_prev.T, get_grad(func, x_prev)) > 0: # Если направление движения не меняется увеличиваем шаг, иначе уменьшаем.\n",
        "      #if i < 10000000:\n",
        "      lr *= 1.2\n",
        "    else:\n",
        "      lr *= 0.6\n",
        "\n",
        "    f_grad_prev = np.clip(get_grad(func, x_prev), -1, 1)\n",
        "\n",
        "    d = -np_dot(Q, f_grad_prev)\n",
        "    #lr = one_dim_min(func, x_prev, f_grad_prev) # Ищем длину шага.\n",
        "    if logging:\n",
        "      print('lr = %.5f' % lr)\n",
        "    x_next = x_prev + lr * d  \n",
        "    f_grad_next = get_grad(func, x_next)\n",
        "\n",
        "    if logging:\n",
        "      print('<f\\'next, f\\'prev> = %.9f' % np_dot(f_grad_next.T, f_grad_prev)) # Проверяем оротогональны ли напр-ия.\n",
        "\n",
        "    r = x_next - x_prev\n",
        "    s = f_grad_next - f_grad_prev\n",
        "\n",
        "    Q_s = np_dot(Q, s)\n",
        "    Q += np_dot(r, r.T) / np_dot(r.T, s)\n",
        "    Q -= np_dot(Q_s, Q_s.T) / np_dot(Q_s, s.T)\n",
        "\n",
        "    x = x_next    \n",
        "\n",
        "    if logging:\n",
        "      print('step has been taken', end='\\n\\n')\n",
        "  \n",
        "  if logging:\n",
        "    print('DFP method converged.', end='\\n\\n')\n",
        "\n",
        "  return x  "
      ],
      "execution_count": 104,
      "outputs": []
    },
    {
      "cell_type": "code",
      "metadata": {
        "id": "AyW2ty7sbPtX"
      },
      "source": [
        "x_0 = [-5, 10]\n",
        "x = DFP_method(func, x_0, eps=1e-6, logging=True)\n",
        "print(func(x), '\\n', x)"
      ],
      "execution_count": null,
      "outputs": []
    },
    {
      "cell_type": "code",
      "metadata": {
        "id": "OkjGdAu7YnuN"
      },
      "source": [
        "def g_1(x):\n",
        "\n",
        "  x = np.asarray(x).reshape(2,1)\n",
        "  const = np.array([1,1]).reshape(2,1)\n",
        "\n",
        "  return np.float(np_dot(const.T, x))"
      ],
      "execution_count": 13,
      "outputs": []
    },
    {
      "cell_type": "code",
      "metadata": {
        "id": "c_jit6cueNzi"
      },
      "source": [
        "def g_2(x):\n",
        "\n",
        "  x = np.asarray(x).reshape(2,1)\n",
        "  const = np.array([1,-1]).reshape(2,1)\n",
        "\n",
        "  return np.float(np_dot(const.T, x))"
      ],
      "execution_count": 14,
      "outputs": []
    },
    {
      "cell_type": "code",
      "metadata": {
        "id": "o1quoi4keY2Y"
      },
      "source": [
        "def f(x):\n",
        "\n",
        "  x = np.asarray(x).reshape(2,1)\n",
        "  const = np.array([10, 9]).reshape(2,1)\n",
        "\n",
        "  x = x + const\n",
        "  return np.float(np_dot(x.T, x))"
      ],
      "execution_count": 15,
      "outputs": []
    },
    {
      "cell_type": "code",
      "metadata": {
        "id": "tXoU0ue5c1sG"
      },
      "source": [
        "def Find_optim(func, x, g_list = [], h_list = [], p=2, r=1, beta=2, eps=1e-6, logging=False, iter_max=float(\"inf\"), DFP_iter_max=float(\"inf\")):\n",
        "  \"\"\"\n",
        "  x  - начальная точка.\n",
        "  func - функция, минимум которой мы ищем.\n",
        "  g_list - список функций-ограничений типа нер-во (>= 0).\n",
        "  h_list - список функций-ограничений типа равенство.\n",
        "  p - показатель степени (см. Z_func).\n",
        "  r - начальное значение параметра штрафа.\n",
        "  beta - коэф-нт в формуле вычисления параметра штрафа.\n",
        "  eps  - условия останова, ограничение на ||f'||.\n",
        "  logging - выводить логи работы или нет.\n",
        "  iter_max - максимальное кол-во итераций.\n",
        "  DFP_iter_max - максимальное кол-во итераций для метода DFP.\n",
        "\n",
        "  return точку x_optim, в кот-ой достигается условный оптимум func и pd.DataFrame с логами.\n",
        "  \"\"\"\n",
        "\n",
        "  x_shape = len(x.reshape(-1))\n",
        "\n",
        "  column_names = {'Z_value': [], 'F_value': [], 'alpha_value': [], 'r': []}\n",
        "  column_names.update({'x['+str(i)+']': [] for i in range(x_shape)})\n",
        "\n",
        "  logging_df = pd.DataFrame(column_names)\n",
        "\n",
        "  # 2-nd part in Z_func, func - 1st.\n",
        "  #\n",
        "  def alpha_func(x, p=p): \n",
        "\n",
        "    alpha_func_val = 0    \n",
        "    for g_func in g_list:\n",
        "      alpha_func_val += max(0, - g_func(x)) ** p  \n",
        "\n",
        "    for h_func in h_list:\n",
        "      alpha_func_val += abs(h_list(x)) ** p\n",
        "    \n",
        "    return alpha_func_val\n",
        "\n",
        "  \n",
        "  # Main function for finding the optimum.\n",
        "  #\n",
        "  def Z_func(x):\n",
        "    return func(x) + r * alpha_func(x)\n",
        "\n",
        "  # Function for logging.\n",
        "  #\n",
        "  def penalty_logging(x, r):\n",
        "    print('current iter №%i' % (iter_num+1))\n",
        "    print('curr Z_val: %.5f, from' % Z_func(x))\n",
        "    print('curr optim point: ', end='')\n",
        "    for x_coor in x: print('%.3f  ' % x_coor, end='')\n",
        "    print('\\nr =', r)\n",
        "    print('alpha(x) = %.10f' % alpha_func(x))\n",
        "    print('-'*30)\n",
        "    #time.sleep(3)\n",
        "\n",
        "  iter_num = 0\n",
        "  if logging:\n",
        "    print('Search has started!')\n",
        "    print('-'*30)\n",
        "\n",
        "  x = DFP_method(Z_func, x, eps, logging=logging, iter_max=DFP_iter_max)\n",
        "\n",
        "  if logging:\n",
        "    penalty_logging(x, r)\n",
        "\n",
        "  new_line = {'Z_value': Z_func(x), 'F_value': func(x), 'alpha_value': alpha_func(x), 'r': r}\n",
        "  new_line.update({'x['+str(i)+']': x.reshape(-1)[i] for i in range(x_shape)})\n",
        "  logging_df = logging_df.append(pd.DataFrame(new_line, index=[iter_num]))\n",
        "  \n",
        "\n",
        "  while r*alpha_func(x) > eps and iter_num < iter_max:\n",
        "\n",
        "    iter_num += 1\n",
        "    r = (r**2 + beta)**0.5\n",
        "    x = DFP_method(Z_func, x, eps, logging=logging, iter_max=DFP_iter_max)\n",
        "\n",
        "    if logging:\n",
        "      penalty_logging(x, r)\n",
        "\n",
        "    new_line = {'Z_value': Z_func(x), 'F_value': func(x), 'alpha_value': alpha_func(x), 'r': r}\n",
        "    new_line.update({'x['+str(i)+']': x.reshape(-1)[i] for i in range(x_shape)})\n",
        "    logging_df = logging_df.append(pd.DataFrame(new_line, index=[iter_num]))\n",
        "\n",
        "  if logging:\n",
        "    print('Search has ended!')\n",
        "  \n",
        "  return x, logging_df"
      ],
      "execution_count": 223,
      "outputs": []
    },
    {
      "cell_type": "code",
      "metadata": {
        "id": "jL3zuLqSi7iL",
        "colab": {
          "base_uri": "https://localhost:8080/"
        },
        "outputId": "3b574575-08d1-42d6-a8bc-f831cfc936a4"
      },
      "source": [
        "%%time\n",
        "x_0 = np.array([[2],[-1]])\n",
        "\n",
        "x_optim, logging_df = Find_optim(func, x_0, [g_1, g_2], eps=1e-6, r=0.01, beta=100, logging=False, iter_max=1000)\n",
        "x_optim"
      ],
      "execution_count": 224,
      "outputs": [
        {
          "output_type": "stream",
          "text": [
            "CPU times: user 4.47 s, sys: 0 ns, total: 4.47 s\n",
            "Wall time: 4.48 s\n"
          ],
          "name": "stdout"
        }
      ]
    },
    {
      "cell_type": "code",
      "metadata": {
        "colab": {
          "base_uri": "https://localhost:8080/",
          "height": 419
        },
        "id": "rJXexIot_maL",
        "outputId": "1c12b0b8-ddde-48eb-8cc3-eebc4840ac00"
      },
      "source": [
        "logging_df"
      ],
      "execution_count": 225,
      "outputs": [
        {
          "output_type": "execute_result",
          "data": {
            "text/html": [
              "<div>\n",
              "<style scoped>\n",
              "    .dataframe tbody tr th:only-of-type {\n",
              "        vertical-align: middle;\n",
              "    }\n",
              "\n",
              "    .dataframe tbody tr th {\n",
              "        vertical-align: top;\n",
              "    }\n",
              "\n",
              "    .dataframe thead th {\n",
              "        text-align: right;\n",
              "    }\n",
              "</style>\n",
              "<table border=\"1\" class=\"dataframe\">\n",
              "  <thead>\n",
              "    <tr style=\"text-align: right;\">\n",
              "      <th></th>\n",
              "      <th>Z_value</th>\n",
              "      <th>F_value</th>\n",
              "      <th>alpha_value</th>\n",
              "      <th>r</th>\n",
              "      <th>x[0]</th>\n",
              "      <th>x[1]</th>\n",
              "    </tr>\n",
              "  </thead>\n",
              "  <tbody>\n",
              "    <tr>\n",
              "      <th>0</th>\n",
              "      <td>-0.490196</td>\n",
              "      <td>-0.499808</td>\n",
              "      <td>0.961169</td>\n",
              "      <td>0.010000</td>\n",
              "      <td>-0.490196</td>\n",
              "      <td>-0.490196</td>\n",
              "    </tr>\n",
              "    <tr>\n",
              "      <th>1</th>\n",
              "      <td>-0.023810</td>\n",
              "      <td>-0.046485</td>\n",
              "      <td>0.002268</td>\n",
              "      <td>10.000005</td>\n",
              "      <td>-0.023809</td>\n",
              "      <td>-0.023810</td>\n",
              "    </tr>\n",
              "    <tr>\n",
              "      <th>2</th>\n",
              "      <td>-0.017074</td>\n",
              "      <td>-0.033565</td>\n",
              "      <td>0.001166</td>\n",
              "      <td>14.142139</td>\n",
              "      <td>-0.017074</td>\n",
              "      <td>-0.017074</td>\n",
              "    </tr>\n",
              "    <tr>\n",
              "      <th>3</th>\n",
              "      <td>-0.014029</td>\n",
              "      <td>-0.027664</td>\n",
              "      <td>0.000787</td>\n",
              "      <td>17.320511</td>\n",
              "      <td>-0.014029</td>\n",
              "      <td>-0.014029</td>\n",
              "    </tr>\n",
              "    <tr>\n",
              "      <th>4</th>\n",
              "      <td>-0.012195</td>\n",
              "      <td>-0.024093</td>\n",
              "      <td>0.000595</td>\n",
              "      <td>20.000002</td>\n",
              "      <td>-0.012195</td>\n",
              "      <td>-0.012195</td>\n",
              "    </tr>\n",
              "    <tr>\n",
              "      <th>...</th>\n",
              "      <td>...</td>\n",
              "      <td>...</td>\n",
              "      <td>...</td>\n",
              "      <td>...</td>\n",
              "      <td>...</td>\n",
              "      <td>...</td>\n",
              "    </tr>\n",
              "    <tr>\n",
              "      <th>996</th>\n",
              "      <td>-0.000791</td>\n",
              "      <td>-0.001581</td>\n",
              "      <td>0.000003</td>\n",
              "      <td>315.594677</td>\n",
              "      <td>-0.000791</td>\n",
              "      <td>-0.000791</td>\n",
              "    </tr>\n",
              "    <tr>\n",
              "      <th>997</th>\n",
              "      <td>-0.000791</td>\n",
              "      <td>-0.001580</td>\n",
              "      <td>0.000002</td>\n",
              "      <td>315.753068</td>\n",
              "      <td>-0.000791</td>\n",
              "      <td>-0.000791</td>\n",
              "    </tr>\n",
              "    <tr>\n",
              "      <th>998</th>\n",
              "      <td>-0.000790</td>\n",
              "      <td>-0.001579</td>\n",
              "      <td>0.000002</td>\n",
              "      <td>315.911380</td>\n",
              "      <td>-0.000790</td>\n",
              "      <td>-0.000790</td>\n",
              "    </tr>\n",
              "    <tr>\n",
              "      <th>999</th>\n",
              "      <td>-0.000790</td>\n",
              "      <td>-0.001578</td>\n",
              "      <td>0.000002</td>\n",
              "      <td>316.069613</td>\n",
              "      <td>-0.000790</td>\n",
              "      <td>-0.000790</td>\n",
              "    </tr>\n",
              "    <tr>\n",
              "      <th>1000</th>\n",
              "      <td>-0.000789</td>\n",
              "      <td>-0.001577</td>\n",
              "      <td>0.000002</td>\n",
              "      <td>316.227766</td>\n",
              "      <td>-0.000789</td>\n",
              "      <td>-0.000789</td>\n",
              "    </tr>\n",
              "  </tbody>\n",
              "</table>\n",
              "<p>1001 rows × 6 columns</p>\n",
              "</div>"
            ],
            "text/plain": [
              "       Z_value   F_value  alpha_value           r      x[0]      x[1]\n",
              "0    -0.490196 -0.499808     0.961169    0.010000 -0.490196 -0.490196\n",
              "1    -0.023810 -0.046485     0.002268   10.000005 -0.023809 -0.023810\n",
              "2    -0.017074 -0.033565     0.001166   14.142139 -0.017074 -0.017074\n",
              "3    -0.014029 -0.027664     0.000787   17.320511 -0.014029 -0.014029\n",
              "4    -0.012195 -0.024093     0.000595   20.000002 -0.012195 -0.012195\n",
              "...        ...       ...          ...         ...       ...       ...\n",
              "996  -0.000791 -0.001581     0.000003  315.594677 -0.000791 -0.000791\n",
              "997  -0.000791 -0.001580     0.000002  315.753068 -0.000791 -0.000791\n",
              "998  -0.000790 -0.001579     0.000002  315.911380 -0.000790 -0.000790\n",
              "999  -0.000790 -0.001578     0.000002  316.069613 -0.000790 -0.000790\n",
              "1000 -0.000789 -0.001577     0.000002  316.227766 -0.000789 -0.000789\n",
              "\n",
              "[1001 rows x 6 columns]"
            ]
          },
          "metadata": {
            "tags": []
          },
          "execution_count": 225
        }
      ]
    },
    {
      "cell_type": "code",
      "metadata": {
        "id": "6sngsbrhsapU"
      },
      "source": [
        "def J(x):\n",
        "  res = 0\n",
        "  x = np.asarray(x)\n",
        "  for i in range(1,x.shape[0]):\n",
        "    res += (x[i] - i*x[0])**4\n",
        "  res = res**6 + (x[0] - 2)**4\n",
        "\n",
        "  return np.float(res)"
      ],
      "execution_count": 226,
      "outputs": []
    },
    {
      "cell_type": "code",
      "metadata": {
        "id": "42XF0c7OtMdX"
      },
      "source": [
        "def g1(x):\n",
        "  x = np.asarray(x)\n",
        "  return np.float(-((x**2).sum()**6 - 363)) # >= 0"
      ],
      "execution_count": 227,
      "outputs": []
    },
    {
      "cell_type": "code",
      "metadata": {
        "colab": {
          "base_uri": "https://localhost:8080/"
        },
        "id": "TggZr1chtvQL",
        "outputId": "b7874781-97ca-4473-bd91-7167b00bf584"
      },
      "source": [
        "%%time\n",
        "x_0 = np.array([[2.],[1.6],[3.5]])\n",
        "#x_0 = np.array([[5.],[3.],[-1.2]])\n",
        "\n",
        "x_optim, logging_df = Find_optim(J, x_0, [g1], eps=1e-9, p=2, r=0.01, beta=1, logging=False, iter_max=10, DFP_iter_max=100)\n",
        "x_optim"
      ],
      "execution_count": 228,
      "outputs": [
        {
          "output_type": "stream",
          "text": [
            "CPU times: user 535 ms, sys: 0 ns, total: 535 ms\n",
            "Wall time: 537 ms\n"
          ],
          "name": "stdout"
        }
      ]
    },
    {
      "cell_type": "code",
      "metadata": {
        "colab": {
          "base_uri": "https://localhost:8080/",
          "height": 390
        },
        "id": "xhMeO7_i9kWB",
        "outputId": "dd628550-14ea-43a0-ea96-a5f283eb11cf"
      },
      "source": [
        "logging_df"
      ],
      "execution_count": 230,
      "outputs": [
        {
          "output_type": "execute_result",
          "data": {
            "text/html": [
              "<div>\n",
              "<style scoped>\n",
              "    .dataframe tbody tr th:only-of-type {\n",
              "        vertical-align: middle;\n",
              "    }\n",
              "\n",
              "    .dataframe tbody tr th {\n",
              "        vertical-align: top;\n",
              "    }\n",
              "\n",
              "    .dataframe thead th {\n",
              "        text-align: right;\n",
              "    }\n",
              "</style>\n",
              "<table border=\"1\" class=\"dataframe\">\n",
              "  <thead>\n",
              "    <tr style=\"text-align: right;\">\n",
              "      <th></th>\n",
              "      <th>Z_value</th>\n",
              "      <th>F_value</th>\n",
              "      <th>alpha_value</th>\n",
              "      <th>r</th>\n",
              "      <th>x[0]</th>\n",
              "      <th>x[1]</th>\n",
              "      <th>x[2]</th>\n",
              "    </tr>\n",
              "  </thead>\n",
              "  <tbody>\n",
              "    <tr>\n",
              "      <th>0</th>\n",
              "      <td>1.019827</td>\n",
              "      <td>1.019811</td>\n",
              "      <td>1.603538e-03</td>\n",
              "      <td>0.010000</td>\n",
              "      <td>1.007166</td>\n",
              "      <td>0.285947</td>\n",
              "      <td>1.254894</td>\n",
              "    </tr>\n",
              "    <tr>\n",
              "      <th>1</th>\n",
              "      <td>1.019839</td>\n",
              "      <td>1.019838</td>\n",
              "      <td>1.128408e-06</td>\n",
              "      <td>1.000050</td>\n",
              "      <td>1.007478</td>\n",
              "      <td>0.285458</td>\n",
              "      <td>1.254736</td>\n",
              "    </tr>\n",
              "    <tr>\n",
              "      <th>2</th>\n",
              "      <td>1.019701</td>\n",
              "      <td>1.019701</td>\n",
              "      <td>4.332882e-08</td>\n",
              "      <td>1.414249</td>\n",
              "      <td>1.007666</td>\n",
              "      <td>0.285454</td>\n",
              "      <td>1.254586</td>\n",
              "    </tr>\n",
              "    <tr>\n",
              "      <th>3</th>\n",
              "      <td>1.019160</td>\n",
              "      <td>1.019160</td>\n",
              "      <td>5.833064e-08</td>\n",
              "      <td>1.732080</td>\n",
              "      <td>1.008435</td>\n",
              "      <td>0.285539</td>\n",
              "      <td>1.253949</td>\n",
              "    </tr>\n",
              "    <tr>\n",
              "      <th>4</th>\n",
              "      <td>1.018502</td>\n",
              "      <td>1.018502</td>\n",
              "      <td>5.393243e-08</td>\n",
              "      <td>2.000025</td>\n",
              "      <td>1.008913</td>\n",
              "      <td>0.286256</td>\n",
              "      <td>1.253400</td>\n",
              "    </tr>\n",
              "    <tr>\n",
              "      <th>5</th>\n",
              "      <td>1.017964</td>\n",
              "      <td>1.017964</td>\n",
              "      <td>1.802084e-08</td>\n",
              "      <td>2.236090</td>\n",
              "      <td>1.009281</td>\n",
              "      <td>0.286902</td>\n",
              "      <td>1.252956</td>\n",
              "    </tr>\n",
              "    <tr>\n",
              "      <th>6</th>\n",
              "      <td>1.017719</td>\n",
              "      <td>1.017719</td>\n",
              "      <td>1.501065e-08</td>\n",
              "      <td>2.449510</td>\n",
              "      <td>1.009651</td>\n",
              "      <td>0.287085</td>\n",
              "      <td>1.252616</td>\n",
              "    </tr>\n",
              "    <tr>\n",
              "      <th>7</th>\n",
              "      <td>1.017524</td>\n",
              "      <td>1.017524</td>\n",
              "      <td>1.151454e-08</td>\n",
              "      <td>2.645770</td>\n",
              "      <td>1.009928</td>\n",
              "      <td>0.287272</td>\n",
              "      <td>1.252350</td>\n",
              "    </tr>\n",
              "    <tr>\n",
              "      <th>8</th>\n",
              "      <td>1.017324</td>\n",
              "      <td>1.017324</td>\n",
              "      <td>7.445103e-09</td>\n",
              "      <td>2.828445</td>\n",
              "      <td>1.010118</td>\n",
              "      <td>0.287525</td>\n",
              "      <td>1.252138</td>\n",
              "    </tr>\n",
              "    <tr>\n",
              "      <th>9</th>\n",
              "      <td>1.017102</td>\n",
              "      <td>1.017102</td>\n",
              "      <td>1.300494e-08</td>\n",
              "      <td>3.000017</td>\n",
              "      <td>1.010242</td>\n",
              "      <td>0.287847</td>\n",
              "      <td>1.251965</td>\n",
              "    </tr>\n",
              "    <tr>\n",
              "      <th>10</th>\n",
              "      <td>1.016658</td>\n",
              "      <td>1.016658</td>\n",
              "      <td>0.000000e+00</td>\n",
              "      <td>3.162293</td>\n",
              "      <td>1.010355</td>\n",
              "      <td>0.288542</td>\n",
              "      <td>1.251713</td>\n",
              "    </tr>\n",
              "  </tbody>\n",
              "</table>\n",
              "</div>"
            ],
            "text/plain": [
              "     Z_value   F_value   alpha_value         r      x[0]      x[1]      x[2]\n",
              "0   1.019827  1.019811  1.603538e-03  0.010000  1.007166  0.285947  1.254894\n",
              "1   1.019839  1.019838  1.128408e-06  1.000050  1.007478  0.285458  1.254736\n",
              "2   1.019701  1.019701  4.332882e-08  1.414249  1.007666  0.285454  1.254586\n",
              "3   1.019160  1.019160  5.833064e-08  1.732080  1.008435  0.285539  1.253949\n",
              "4   1.018502  1.018502  5.393243e-08  2.000025  1.008913  0.286256  1.253400\n",
              "5   1.017964  1.017964  1.802084e-08  2.236090  1.009281  0.286902  1.252956\n",
              "6   1.017719  1.017719  1.501065e-08  2.449510  1.009651  0.287085  1.252616\n",
              "7   1.017524  1.017524  1.151454e-08  2.645770  1.009928  0.287272  1.252350\n",
              "8   1.017324  1.017324  7.445103e-09  2.828445  1.010118  0.287525  1.252138\n",
              "9   1.017102  1.017102  1.300494e-08  3.000017  1.010242  0.287847  1.251965\n",
              "10  1.016658  1.016658  0.000000e+00  3.162293  1.010355  0.288542  1.251713"
            ]
          },
          "metadata": {
            "tags": []
          },
          "execution_count": 230
        }
      ]
    },
    {
      "cell_type": "code",
      "metadata": {
        "colab": {
          "base_uri": "https://localhost:8080/",
          "height": 1000
        },
        "id": "6lbpiH2M_3Qw",
        "outputId": "b8528bca-f0e5-4a2a-9811-ee2f226a05e9"
      },
      "source": [
        "from matplotlib import pyplot as plt\n",
        "\n",
        "fig, ax = plt.subplots(2,2, figsize=(20,20))\n",
        "\n",
        "ax[0,0].plot(logging_df.Z_value,     label='Z_value')\n",
        "ax[0,0].plot(logging_df.F_value,     label='F_value')\n",
        "ax[0,1].plot(logging_df.alpha_value, label='alpha_value')\n",
        "ax[1,0].plot(logging_df.r,           label='r')\n",
        "ax[1,1].scatter(logging_df['x[0]'], \n",
        "                logging_df['x[1]'], \n",
        "                label='x',\n",
        "                s=100)\n",
        "\n",
        "ax[1,1].scatter(logging_df['x[0]'].tolist()[-1], \n",
        "                logging_df['x[1]'].tolist()[-1], \n",
        "                label='x_optim',\n",
        "                s=100, color='red')\n",
        "\n",
        "for i in range(4):\n",
        "  ax[i%2,i//2].legend()\n",
        "  ax[i%2,i//2].grid(alpha=0.3)\n",
        "\n",
        "plt.show()\n",
        "plt.close()"
      ],
      "execution_count": 278,
      "outputs": [
        {
          "output_type": "display_data",
          "data": {
            "image/png": "[encoded data removed]",
            "text/plain": [
              "<Figure size 1440x1440 with 4 Axes>"
            ]
          },
          "metadata": {
            "tags": [],
            "needs_background": "light"
          }
        }
      ]
    },
    {
      "cell_type": "code",
      "metadata": {
        "colab": {
          "base_uri": "https://localhost:8080/"
        },
        "id": "wvLHfGERCRbN",
        "outputId": "181cea03-0058-49b4-88e0-be73ac2396c2"
      },
      "source": [
        ""
      ],
      "execution_count": 275,
      "outputs": [
        {
          "output_type": "execute_result",
          "data": {
            "text/plain": [
              "1.0103554197670273"
            ]
          },
          "metadata": {
            "tags": []
          },
          "execution_count": 275
        }
      ]
    }
  ]
}